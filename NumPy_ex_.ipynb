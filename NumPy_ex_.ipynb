{
  "nbformat": 4,
  "nbformat_minor": 0,
  "metadata": {
    "colab": {
      "provenance": [],
      "toc_visible": true,
      "authorship_tag": "ABX9TyPjMiqHO6VEqbADs28oRQuO",
      "include_colab_link": true
    },
    "kernelspec": {
      "name": "python3",
      "display_name": "Python 3"
    },
    "language_info": {
      "name": "python"
    }
  },
  "cells": [
    {
      "cell_type": "markdown",
      "metadata": {
        "id": "view-in-github",
        "colab_type": "text"
      },
      "source": [
        "<a href=\"https://colab.research.google.com/github/aminsadruddin/NumPy-Exercises/blob/main/NumPy_ex_.ipynb\" target=\"_parent\"><img src=\"https://colab.research.google.com/assets/colab-badge.svg\" alt=\"Open In Colab\"/></a>"
      ]
    },
    {
      "cell_type": "markdown",
      "source": [
        "# NumPy\n",
        "NumPy is a Python library used for working with arrays.\n",
        "\n",
        "It also has functions for working in domain of linear algebra, fourier transform, and matrices.\n",
        "\n",
        "NumPy was created in 2005 by Travis Oliphant. It is an open source project and you can use it freely.\n",
        "\n",
        "NumPy stands for Numerical Python."
      ],
      "metadata": {
        "id": "gsIO93YGQDlY"
      }
    },
    {
      "cell_type": "code",
      "source": [
        "import numpy as np"
      ],
      "metadata": {
        "id": "JkGEBeJDQDE2"
      },
      "execution_count": null,
      "outputs": []
    },
    {
      "cell_type": "code",
      "source": [],
      "metadata": {
        "id": "Vf5Me0_trfAo"
      },
      "execution_count": null,
      "outputs": []
    },
    {
      "cell_type": "code",
      "source": [
        "a = np.array([1,5,b,3])"
      ],
      "metadata": {
        "colab": {
          "base_uri": "https://localhost:8080/",
          "height": 141
        },
        "id": "7HAabjkCSpAV",
        "outputId": "b96cd8c3-d89b-4a74-d08f-2654f90f0098"
      },
      "execution_count": null,
      "outputs": [
        {
          "output_type": "error",
          "ename": "NameError",
          "evalue": "name 'b' is not defined",
          "traceback": [
            "\u001b[0;31m---------------------------------------------------------------------------\u001b[0m",
            "\u001b[0;31mNameError\u001b[0m                                 Traceback (most recent call last)",
            "\u001b[0;32m<ipython-input-3-b19c8ee2db2b>\u001b[0m in \u001b[0;36m<cell line: 1>\u001b[0;34m()\u001b[0m\n\u001b[0;32m----> 1\u001b[0;31m \u001b[0ma\u001b[0m \u001b[0;34m=\u001b[0m \u001b[0mnp\u001b[0m\u001b[0;34m.\u001b[0m\u001b[0marray\u001b[0m\u001b[0;34m(\u001b[0m\u001b[0;34m[\u001b[0m\u001b[0;36m1\u001b[0m\u001b[0;34m,\u001b[0m\u001b[0;36m5\u001b[0m\u001b[0;34m,\u001b[0m\u001b[0mb\u001b[0m\u001b[0;34m,\u001b[0m\u001b[0;36m3\u001b[0m\u001b[0;34m]\u001b[0m\u001b[0;34m)\u001b[0m\u001b[0;34m\u001b[0m\u001b[0;34m\u001b[0m\u001b[0m\n\u001b[0m",
            "\u001b[0;31mNameError\u001b[0m: name 'b' is not defined"
          ]
        }
      ]
    },
    {
      "cell_type": "code",
      "source": [
        "![](https://i.imgur.com/mg8O3kd.png) # below code on section"
      ],
      "metadata": {
        "id": "PZuiWQxlrgsx",
        "colab": {
          "base_uri": "https://localhost:8080/"
        },
        "outputId": "422be670-0f5f-413c-a9b2-ed4ab38e81cb"
      },
      "execution_count": null,
      "outputs": [
        {
          "output_type": "stream",
          "name": "stdout",
          "text": [
            "/bin/bash: -c: line 1: syntax error near unexpected token `https://i.imgur.com/mg8O3kd.png'\n",
            "/bin/bash: -c: line 1: `[](https://i.imgur.com/mg8O3kd.png) # below code on section'\n"
          ]
        }
      ]
    },
    {
      "cell_type": "code",
      "source": [],
      "metadata": {
        "id": "k9OPQUJkr9-Y"
      },
      "execution_count": null,
      "outputs": []
    },
    {
      "cell_type": "markdown",
      "source": [
        "![](https://i.imgur.com/mg8O3kd.png)"
      ],
      "metadata": {
        "id": "9NnKySp-rWPz"
      }
    },
    {
      "cell_type": "code",
      "source": [
        "%%time\n",
        "a = np.array([1,5,8,3])\n",
        "b = 3\n",
        "c = a*b\n",
        "print(c)\n",
        "print(a)\n",
        "print(type(a))\n"
      ],
      "metadata": {
        "colab": {
          "base_uri": "https://localhost:8080/"
        },
        "id": "nUYTy0jUSpI3",
        "outputId": "a8a9f772-9288-478f-d1ba-95403f6871b2"
      },
      "execution_count": null,
      "outputs": [
        {
          "output_type": "stream",
          "name": "stdout",
          "text": [
            "[ 3 15 24  9]\n",
            "[1 5 8 3]\n",
            "<class 'numpy.ndarray'>\n",
            "CPU times: user 860 µs, sys: 0 ns, total: 860 µs\n",
            "Wall time: 2.93 ms\n"
          ]
        }
      ]
    },
    {
      "cell_type": "code",
      "source": [],
      "metadata": {
        "id": "LqnZRXo1rp5F"
      },
      "execution_count": null,
      "outputs": []
    },
    {
      "cell_type": "code",
      "source": [
        "# check version\n",
        "\n",
        "print(np.__version__)"
      ],
      "metadata": {
        "colab": {
          "base_uri": "https://localhost:8080/"
        },
        "id": "GOUJ1PHSSpQn",
        "outputId": "e8e945b4-d3d9-4ae4-f526-d8f303c62ae0"
      },
      "execution_count": null,
      "outputs": [
        {
          "output_type": "stream",
          "name": "stdout",
          "text": [
            "1.26.4\n"
          ]
        }
      ]
    },
    {
      "cell_type": "markdown",
      "source": [
        "## Creating Arrays"
      ],
      "metadata": {
        "id": "SaI4bgeSmnuV"
      }
    },
    {
      "cell_type": "code",
      "source": [
        "# NumPy Creating Arrays\n",
        "# Use a tuple to create a NumPy array:\n",
        "arr = np.array((1, 2, 3, 4, 5))\n",
        "\n",
        "print(arr)\n",
        "print(type(arr))\n",
        "print(arr.shape)\n",
        "print(arr.ndim)\n"
      ],
      "metadata": {
        "colab": {
          "base_uri": "https://localhost:8080/"
        },
        "id": "tjQu6CAvSpZY",
        "outputId": "39045052-d63f-4b1b-a348-90414dca58b8"
      },
      "execution_count": null,
      "outputs": [
        {
          "output_type": "stream",
          "name": "stdout",
          "text": [
            "[1 2 3 4 5]\n",
            "<class 'numpy.ndarray'>\n",
            "(5,)\n",
            "1\n"
          ]
        }
      ]
    },
    {
      "cell_type": "code",
      "source": [
        "arr1 = np.array([1, 2, 3, 4, 5])\n",
        "print(arr1)\n",
        "print(type(arr1))\n",
        "print(arr1.shape)\n",
        "print(arr1.ndim)\n"
      ],
      "metadata": {
        "colab": {
          "base_uri": "https://localhost:8080/"
        },
        "id": "BTs0ueRjjQQt",
        "outputId": "86c1c8a9-4378-4b1e-94f0-a569713b62a2"
      },
      "execution_count": null,
      "outputs": [
        {
          "output_type": "stream",
          "name": "stdout",
          "text": [
            "[1 2 3 4 5]\n",
            "<class 'numpy.ndarray'>\n",
            "(5,)\n",
            "1\n"
          ]
        }
      ]
    },
    {
      "cell_type": "markdown",
      "source": [
        "### 0-D Arrays"
      ],
      "metadata": {
        "id": "gXE1r2aKm7Bl"
      }
    },
    {
      "cell_type": "code",
      "source": [
        "# Dimensions in Arrays\n",
        "# 0-D Arrays\n",
        "# 0-D arrays, or Scalars, are the elements in an array. Each value in an array is a 0-D array.\n",
        "# Create a 0-D array with value 42\n",
        "a1 = np.array(42)\n",
        "print(a1)\n",
        "print(type(a1))\n",
        "print(a1.shape)\n",
        "print(a1.ndim)"
      ],
      "metadata": {
        "colab": {
          "base_uri": "https://localhost:8080/"
        },
        "id": "vAFHFlBHSpgk",
        "outputId": "63a7c7a3-985c-4765-f8ff-3b5b1225d8e3"
      },
      "execution_count": null,
      "outputs": [
        {
          "output_type": "stream",
          "name": "stdout",
          "text": [
            "42\n",
            "<class 'numpy.ndarray'>\n",
            "()\n",
            "0\n"
          ]
        }
      ]
    },
    {
      "cell_type": "markdown",
      "source": [
        "### 1-D Arrays"
      ],
      "metadata": {
        "id": "drH-EF4wnCw3"
      }
    },
    {
      "cell_type": "code",
      "source": [
        "# 1-D Arrays\n",
        "#An array that has 0-D arrays as its elements is called uni-dimensional or 1-D array.\n",
        "#These are the most common and basic arrays.\n",
        "\n",
        "# eg, Create a 1-D array containing the values 1,2,3,4,5:\n",
        "\n",
        "a2 = np.array([1,2,3,4,5])\n",
        "print(a2)\n",
        "print(type(a2))\n",
        "print(a2.shape)\n",
        "print(a2.ndim)"
      ],
      "metadata": {
        "colab": {
          "base_uri": "https://localhost:8080/"
        },
        "id": "hx7iyi6gSpm1",
        "outputId": "1efaa447-f518-4c04-cba1-ee8a34377c4a"
      },
      "execution_count": null,
      "outputs": [
        {
          "output_type": "stream",
          "name": "stdout",
          "text": [
            "[1 2 3 4 5]\n",
            "<class 'numpy.ndarray'>\n",
            "(5,)\n",
            "1\n"
          ]
        }
      ]
    },
    {
      "cell_type": "markdown",
      "source": [
        "### 2-D Arrays"
      ],
      "metadata": {
        "id": "ktw5hHSPSps3"
      }
    },
    {
      "cell_type": "code",
      "source": [
        "# 2-D Arrays\n",
        "# An array that has 1-D arrays as its elements is called a 2-D array.\n",
        "# These are often used to represent matrix or 2nd order tensors.\n",
        "#eg Create a 2-D array containing two arrays with the values 1,2,3 and 4,5,6:\n",
        "\n",
        "a3 = np.array([[1,2,3],[4,5,6]])\n",
        "\n",
        "print(a3)\n",
        "print(type(a3))\n",
        "print(a3.shape)\n",
        "print(a3.ndim)"
      ],
      "metadata": {
        "colab": {
          "base_uri": "https://localhost:8080/"
        },
        "id": "LPsVyD-xSpzH",
        "outputId": "3627dea7-f45c-427d-b6d4-12016584d2cc"
      },
      "execution_count": null,
      "outputs": [
        {
          "output_type": "stream",
          "name": "stdout",
          "text": [
            "[[1 2 3]\n",
            " [4 5 6]]\n",
            "<class 'numpy.ndarray'>\n",
            "(2, 3)\n",
            "2\n"
          ]
        }
      ]
    },
    {
      "cell_type": "markdown",
      "source": [
        "### 3-D arrays"
      ],
      "metadata": {
        "id": "hDWElY2PSp5k"
      }
    },
    {
      "cell_type": "code",
      "source": [
        "#3-D arrays\n",
        "#An array that has 2-D arrays (matrices) as its elements is called 3-D array.\n",
        "#These are often used to represent a 3rd order tensor.\n",
        "#Create a 3-D array with two 2-D arrays, both containing two arrays with the values 1,2,3 and 4,5,6:\n",
        "\n",
        "a4 = np.array([[[1,2,3],[4,5,6]],[[1,2,3],[4,5,6]]])\n",
        "print(a4)\n",
        "print(type(a4))\n",
        "print(a4.shape)\n",
        "print(a4.ndim)"
      ],
      "metadata": {
        "colab": {
          "base_uri": "https://localhost:8080/"
        },
        "id": "zcd2nqF-Sp_7",
        "outputId": "b788d68a-163f-4cdb-a23c-b54195cec1b2"
      },
      "execution_count": null,
      "outputs": [
        {
          "output_type": "stream",
          "name": "stdout",
          "text": [
            "[[[1 2 3]\n",
            "  [4 5 6]]\n",
            "\n",
            " [[1 2 3]\n",
            "  [4 5 6]]]\n",
            "<class 'numpy.ndarray'>\n",
            "(2, 2, 3)\n",
            "3\n"
          ]
        }
      ]
    },
    {
      "cell_type": "code",
      "source": [
        "# Check Number of Dimensions?  varuble.ndim\n",
        "print(a1)\n",
        "print(a2)\n",
        "print(a3)\n",
        "print(a4)\n",
        "\n",
        "print(\"Number of Dimensions \")\n",
        "print(a1.ndim)\n",
        "print(a2.ndim)\n",
        "print(a3.ndim)\n",
        "print(a4.ndim)\n",
        "\n"
      ],
      "metadata": {
        "colab": {
          "base_uri": "https://localhost:8080/"
        },
        "id": "6qXfIbHZSqGU",
        "outputId": "eda34b13-cbfe-49e0-ddb9-30c7de694c90"
      },
      "execution_count": null,
      "outputs": [
        {
          "output_type": "stream",
          "name": "stdout",
          "text": [
            "42\n",
            "[1 2 3 4 5]\n",
            "[[1 2 3]\n",
            " [4 5 6]]\n",
            "[[[1 2 3]\n",
            "  [4 5 6]]\n",
            "\n",
            " [[1 2 3]\n",
            "  [4 5 6]]]\n",
            "Number of Dimensions \n",
            "0\n",
            "1\n",
            "2\n",
            "3\n"
          ]
        }
      ]
    },
    {
      "cell_type": "markdown",
      "source": [
        "##Array Indexing\n",
        "\n",
        "- Array indexing is the same as accessing an array element.\n",
        "- You can access an array element by referring to its index number.\n",
        "- The indexes in NumPy arrays start with 0, meaning that the first element has index 0, and the second has index 1 etc."
      ],
      "metadata": {
        "id": "pqyET5w6SqMY"
      }
    },
    {
      "cell_type": "code",
      "source": [
        "w1, w2, w3 = 0.3, 0.2, 0.5"
      ],
      "metadata": {
        "id": "dtD2w2FJMOHy"
      },
      "execution_count": null,
      "outputs": []
    },
    {
      "cell_type": "code",
      "source": [
        "karachi = [73, 67, 43]\n",
        "lahore = [91, 88, 64]\n",
        "quetta = [87, 134, 58]\n",
        "sibi = [102, 43, 37]\n",
        "hyderabad = [69, 96, 70]"
      ],
      "metadata": {
        "id": "_B-0t3E1MFBR"
      },
      "execution_count": null,
      "outputs": []
    },
    {
      "cell_type": "code",
      "source": [
        "kanto_temp = 73\n",
        "kanto_rainfall = 67\n",
        "kanto_humidity = 43\n",
        "\n",
        "kanto_yield_apples = kanto_temp * w1 + kanto_rainfall * w2 + kanto_humidity * w3\n",
        "kanto_yield_apples"
      ],
      "metadata": {
        "colab": {
          "base_uri": "https://localhost:8080/"
        },
        "id": "1ttRz7TYMNLB",
        "outputId": "c717e885-c90e-47a0-97f3-2adf1bb2b9fd"
      },
      "execution_count": null,
      "outputs": [
        {
          "output_type": "execute_result",
          "data": {
            "text/plain": [
              "56.8"
            ]
          },
          "metadata": {},
          "execution_count": 17
        }
      ]
    },
    {
      "cell_type": "code",
      "source": [
        "print(\"The expected yield of apples in Kanto region is {} tons per hectare.\".format(kanto_yield_apples))"
      ],
      "metadata": {
        "colab": {
          "base_uri": "https://localhost:8080/"
        },
        "id": "vERmlMc5MGrw",
        "outputId": "10a0dc1e-b92e-4743-ae4c-3f143139d5a1"
      },
      "execution_count": null,
      "outputs": [
        {
          "output_type": "stream",
          "name": "stdout",
          "text": [
            "The expected yield of apples in Kanto region is 56.8 tons per hectare.\n"
          ]
        }
      ]
    },
    {
      "cell_type": "code",
      "source": [
        "import numpy as np\n",
        "karachi = np.array([73, 67, 43])\n",
        "print (karachi)\n",
        "print(\"Type:\",type(karachi))\n",
        "print(\"Shape:\",karachi.shape)\n",
        "print(\"Size:\",karachi.size)\n",
        "print(\"Dimention:\",karachi.ndim)\n",
        "print(\"Index:\",karachi[0])\n",
        "\n"
      ],
      "metadata": {
        "id": "UwUI8m84SqSs",
        "colab": {
          "base_uri": "https://localhost:8080/"
        },
        "outputId": "5e96ebff-9e4e-4165-c5e9-7a903d780c91"
      },
      "execution_count": null,
      "outputs": [
        {
          "output_type": "stream",
          "name": "stdout",
          "text": [
            "[73 67 43]\n",
            "Type: <class 'numpy.ndarray'>\n",
            "Shape: (3,)\n",
            "Size: 3\n",
            "Dimention: 1\n",
            "Index: 73\n"
          ]
        }
      ]
    },
    {
      "cell_type": "code",
      "source": [
        "weights = np.array([w1, w2, w3])\n",
        "print(weights)\n",
        "print(\"Type:\",type(weights))\n",
        "print(\"Shape:\",weights.shape)\n",
        "print(\"Size:\",weights.size)\n",
        "print(\"Dimention:\",weights.ndim)\n",
        "print(\"Index:\",weights[0])"
      ],
      "metadata": {
        "colab": {
          "base_uri": "https://localhost:8080/"
        },
        "id": "_Lg38LMSM_fG",
        "outputId": "83be7dcb-72a3-4148-caca-cf2bf07e8875"
      },
      "execution_count": null,
      "outputs": [
        {
          "output_type": "stream",
          "name": "stdout",
          "text": [
            "[0.3 0.2 0.5]\n",
            "Type: <class 'numpy.ndarray'>\n",
            "Shape: (3,)\n",
            "Size: 3\n",
            "Dimention: 1\n",
            "Index: 0.3\n"
          ]
        }
      ]
    },
    {
      "cell_type": "code",
      "source": [
        "# indexing\n",
        "print(karachi)\n",
        "print(karachi[0])\n",
        "print(karachi[1])\n",
        "print(karachi[0:1])\n",
        "print(karachi[:-1])\n",
        "\n",
        "a = np.array([0,1])\n",
        "print(a)\n",
        "# fancy array\n",
        "print(karachi[a])"
      ],
      "metadata": {
        "colab": {
          "base_uri": "https://localhost:8080/"
        },
        "id": "X1nNLtlVM_lw",
        "outputId": "145c8117-9ca0-4578-8db1-ca623f97cf7b"
      },
      "execution_count": null,
      "outputs": [
        {
          "output_type": "stream",
          "name": "stdout",
          "text": [
            "[73 67 43]\n",
            "73\n",
            "67\n",
            "[73]\n",
            "[73 67]\n",
            "[0 1]\n",
            "[73 67]\n"
          ]
        }
      ]
    },
    {
      "cell_type": "markdown",
      "source": [
        "## Add , Sub , Multiply , divide\n"
      ],
      "metadata": {
        "id": "sxq3bb1YRMEa"
      }
    },
    {
      "cell_type": "code",
      "source": [
        "#Multiply\n",
        "print(\"multiply:\",karachi * weights)\n",
        "print(\"multiply:\",np.multiply(karachi,weights))\n",
        "#np.dot\n",
        "print(\"dot:\",karachi.dot(weights))\n",
        "print(\"dot:\",weights.dot(karachi))\n",
        "print(\"dot:\",np.dot(karachi,weights))\n",
        "#addition\n",
        "print(\"addition:\",karachi + weights)\n",
        "print(\"addition:\",np.add(karachi,weights))\n",
        "#subtraction\n",
        "print(\"subtraction:\",karachi - weights)\n",
        "print(\"subtraction:\",np.subtract(karachi,weights))\n",
        "#divide\n",
        "print(\"divide:\",karachi / weights)\n",
        "print(\"divide:\",np.divide(karachi,weights))\n"
      ],
      "metadata": {
        "colab": {
          "base_uri": "https://localhost:8080/"
        },
        "id": "RrRJ7SdCM_rw",
        "outputId": "f3d6800a-b840-48fd-8798-94bfad7dca08"
      },
      "execution_count": null,
      "outputs": [
        {
          "output_type": "stream",
          "name": "stdout",
          "text": [
            "multiply: [21.9 13.4 21.5]\n",
            "multiply: [21.9 13.4 21.5]\n",
            "dot: 56.8\n",
            "dot: 56.8\n",
            "dot: 56.8\n",
            "addition: [73.3 67.2 43.5]\n",
            "addition: [73.3 67.2 43.5]\n",
            "subtraction: [72.7 66.8 42.5]\n",
            "subtraction: [72.7 66.8 42.5]\n",
            "divide: [243.33333333 335.          86.        ]\n",
            "divide: [243.33333333 335.          86.        ]\n"
          ]
        }
      ]
    },
    {
      "cell_type": "markdown",
      "source": [
        "## mean median std"
      ],
      "metadata": {
        "id": "n2wp9EZORgO8"
      }
    },
    {
      "cell_type": "code",
      "source": [
        "#mean median mode std\n",
        "print(\"mean:\",karachi.mean())\n",
        "print(\"median:\",np.median(karachi))\n",
        "#print(\"mode:\",np.mode(karachi))\n",
        "print(\"std:\",karachi.std())"
      ],
      "metadata": {
        "colab": {
          "base_uri": "https://localhost:8080/"
        },
        "id": "W9kKCwamM_xA",
        "outputId": "6ad6b6f6-863f-4748-afb7-06e1581b1ace"
      },
      "execution_count": null,
      "outputs": [
        {
          "output_type": "stream",
          "name": "stdout",
          "text": [
            "mean: 61.0\n",
            "median: 67.0\n",
            "std: 12.96148139681572\n"
          ]
        }
      ]
    },
    {
      "cell_type": "markdown",
      "source": [
        "## Copy vs View\n",
        "- The main difference between a copy and a view of an array is that the copy is a new array, and the view is just a view of the original array.\n",
        "\n",
        "- The copy owns the data and any changes made to the copy will not affect original array, and any changes made to the original array will not affect the copy.\n",
        "\n",
        "- The view does not own the data and any changes made to the view will affect the original array, and any changes made to the original array will affect the view."
      ],
      "metadata": {
        "id": "RtLso_uzP_bH"
      }
    },
    {
      "cell_type": "code",
      "source": [
        "# copy\n",
        "print(karachi)\n",
        "k1 = np.copy(karachi)\n",
        "print(k1)\n",
        "k1[0] = 100\n",
        "print(k1)\n",
        "print(karachi)"
      ],
      "metadata": {
        "colab": {
          "base_uri": "https://localhost:8080/"
        },
        "id": "bTU2j4DSP_h3",
        "outputId": "f36c36ab-bcfa-48c2-a3ba-d3f140a08b86"
      },
      "execution_count": null,
      "outputs": [
        {
          "output_type": "stream",
          "name": "stdout",
          "text": [
            "[73 67 43]\n",
            "[73 67 43]\n",
            "[100  67  43]\n",
            "[73 67 43]\n"
          ]
        }
      ]
    },
    {
      "cell_type": "code",
      "source": [
        "print(karachi)\n",
        "k2 = karachi.view\n",
        "print(k2) #no any object only view\n",
        "print(karachi)"
      ],
      "metadata": {
        "colab": {
          "base_uri": "https://localhost:8080/"
        },
        "id": "LVJxgPApP_oI",
        "outputId": "24507f05-75c9-43c7-8b65-bed29144c599"
      },
      "execution_count": null,
      "outputs": [
        {
          "output_type": "stream",
          "name": "stdout",
          "text": [
            "[73 67 43]\n",
            "<built-in method view of numpy.ndarray object at 0x7f3bf697fd50>\n",
            "[73 67 43]\n"
          ]
        }
      ]
    },
    {
      "cell_type": "markdown",
      "source": [
        "## Arange and Linspace"
      ],
      "metadata": {
        "id": "LHRlAD_cswc9"
      }
    },
    {
      "cell_type": "code",
      "source": [
        "#arange\n",
        "arr1 = np.arange(20)\n",
        "print(arr1)\n",
        "print(type(arr1))\n",
        "print(arr1.shape)\n",
        "print(arr1.ndim)"
      ],
      "metadata": {
        "colab": {
          "base_uri": "https://localhost:8080/"
        },
        "id": "9iaBDy4yswi6",
        "outputId": "76d827a7-0180-48bc-e819-5155ef5abdc0"
      },
      "execution_count": null,
      "outputs": [
        {
          "output_type": "stream",
          "name": "stdout",
          "text": [
            "[ 0  1  2  3  4  5  6  7  8  9 10 11 12 13 14 15 16 17 18 19]\n",
            "<class 'numpy.ndarray'>\n",
            "(20,)\n",
            "1\n"
          ]
        }
      ]
    },
    {
      "cell_type": "code",
      "source": [
        "# linspace\n",
        "arr2 = np.linspace(0,10,5)\n",
        "print(arr2)\n",
        "print(type(arr2))\n",
        "print(arr2.shape)\n",
        "print(arr2.ndim)"
      ],
      "metadata": {
        "colab": {
          "base_uri": "https://localhost:8080/"
        },
        "id": "UL-XIweuswou",
        "outputId": "5d3abfc7-9b8c-426b-ca15-0c3fccbc52bf"
      },
      "execution_count": null,
      "outputs": [
        {
          "output_type": "stream",
          "name": "stdout",
          "text": [
            "[ 0.   2.5  5.   7.5 10. ]\n",
            "<class 'numpy.ndarray'>\n",
            "(5,)\n",
            "1\n"
          ]
        }
      ]
    },
    {
      "cell_type": "markdown",
      "source": [
        "## arange , shape , reshape"
      ],
      "metadata": {
        "id": "G4g635hwqwew"
      }
    },
    {
      "cell_type": "code",
      "source": [
        "#shape\n",
        "import numpy as np\n",
        "# arange\n",
        "a10 = np.arange(10)\n",
        "print(\"arange\",a10)\n",
        "print(\"shape\",a10.shape)\n",
        "print(\"reshape\",a10.reshape(2,5))\n",
        "print(\"______________________\")\n",
        "a11 = np.arange(9).reshape(3,3)\n",
        "print(\"arange\",a11)\n",
        "print(\"shape\",a11.shape)\n",
        "print(\"reshape\",a11.reshape(3,3))\n",
        "print(\"______________________\")\n",
        "a12 = np.arange(0,16,1)\n",
        "print(\"arange\",a12)\n",
        "print(\"shape\",a12.shape)\n",
        "print(\"reshape\",a12.reshape(4,4))\n",
        "print(\"______________________\")\n"
      ],
      "metadata": {
        "id": "c3iy6AfETk80",
        "colab": {
          "base_uri": "https://localhost:8080/"
        },
        "outputId": "30732362-79e3-439e-99f6-f19050c284b7"
      },
      "execution_count": null,
      "outputs": [
        {
          "output_type": "stream",
          "name": "stdout",
          "text": [
            "arange [0 1 2 3 4 5 6 7 8 9]\n",
            "shape (10,)\n",
            "reshape [[0 1 2 3 4]\n",
            " [5 6 7 8 9]]\n",
            "______________________\n",
            "arange [[0 1 2]\n",
            " [3 4 5]\n",
            " [6 7 8]]\n",
            "shape (3, 3)\n",
            "reshape [[0 1 2]\n",
            " [3 4 5]\n",
            " [6 7 8]]\n",
            "______________________\n",
            "arange [ 0  1  2  3  4  5  6  7  8  9 10 11 12 13 14 15]\n",
            "shape (16,)\n",
            "reshape [[ 0  1  2  3]\n",
            " [ 4  5  6  7]\n",
            " [ 8  9 10 11]\n",
            " [12 13 14 15]]\n",
            "______________________\n"
          ]
        }
      ]
    },
    {
      "cell_type": "code",
      "source": [
        "#shape\n",
        "arr = np.array([1, 2, 3, 4], ndmin=5)\n",
        "print(\"arr\",arr)\n",
        "print('shape of array :', arr.shape)\n",
        "\n",
        "arr1 = np.array([[1, 2, 3, 4], [5, 6, 7, 8]])\n",
        "print(\"arr1\",arr1)\n",
        "print(\"shape of array1 :\",arr1.shape)\n"
      ],
      "metadata": {
        "colab": {
          "base_uri": "https://localhost:8080/"
        },
        "id": "xpEekOO4P_uI",
        "outputId": "4f0c0296-6e25-42c4-beca-9e03d5b9de82"
      },
      "execution_count": null,
      "outputs": [
        {
          "output_type": "stream",
          "name": "stdout",
          "text": [
            "arr [[[[[1 2 3 4]]]]]\n",
            "shape of array : (1, 1, 1, 1, 4)\n",
            "arr1 [[1 2 3 4]\n",
            " [5 6 7 8]]\n",
            "shape of array1 : (2, 4)\n"
          ]
        }
      ]
    },
    {
      "cell_type": "code",
      "source": [
        "a1 = np.array([1, 2, 3, 4, 5, 6, 7, 8, 9, 10, 11, 12])\n",
        "a2 = np.array([[1, 2, 3, 4], [5, 6, 7, 8], [9, 10, 11, 12]])\n",
        "a3 = np.array([[[1, 2, 3], [4, 5, 6]], [[7, 8, 9], [10, 11, 12]]])\n",
        "# a4 = np.array(0,10,(3,3))\n",
        "a5 = np.random.randint(0,10,(3,3)) #from randon function\n",
        "a5a = np.random.rand(3,3) #from randon function\n",
        "print(a1)\n",
        "print(\"_________________\")\n",
        "print(a2)\n",
        "print(\"_________________\")\n",
        "print(a3)\n",
        "print(\"_________________\")\n",
        "print(a5)\n",
        "print(\"_________________\")\n",
        "print(  a5a)\n",
        "print(\"_________________\")"
      ],
      "metadata": {
        "colab": {
          "base_uri": "https://localhost:8080/"
        },
        "id": "YkE31L3TP_0I",
        "outputId": "56b25912-f652-43e9-fa77-98c2bcc2e753"
      },
      "execution_count": null,
      "outputs": [
        {
          "output_type": "stream",
          "name": "stdout",
          "text": [
            "[ 1  2  3  4  5  6  7  8  9 10 11 12]\n",
            "_________________\n",
            "[[ 1  2  3  4]\n",
            " [ 5  6  7  8]\n",
            " [ 9 10 11 12]]\n",
            "_________________\n",
            "[[[ 1  2  3]\n",
            "  [ 4  5  6]]\n",
            "\n",
            " [[ 7  8  9]\n",
            "  [10 11 12]]]\n",
            "_________________\n",
            "[[3 3 6]\n",
            " [8 4 7]\n",
            " [9 7 4]]\n",
            "_________________\n",
            "[[0.82745382 0.57183663 0.58019909]\n",
            " [0.52197178 0.45934405 0.29863821]\n",
            " [0.33480817 0.78442765 0.59477312]]\n",
            "_________________\n"
          ]
        }
      ]
    },
    {
      "cell_type": "code",
      "source": [
        "#reshape\n",
        "a1 = np.array([1, 2, 3, 4, 5, 6, 7, 8, 9, 10, 11, 12])\n",
        "a6 = a1.reshape(4,3)\n",
        "print(a6)\n",
        "print(\"_________________\")\n",
        "a7 = a1.reshape(2,3,2)\n",
        "print(a7)"
      ],
      "metadata": {
        "colab": {
          "base_uri": "https://localhost:8080/"
        },
        "id": "n5MWhYJDP_54",
        "outputId": "8b560045-2664-476f-b836-75c6bd3c2ca1"
      },
      "execution_count": null,
      "outputs": [
        {
          "output_type": "stream",
          "name": "stdout",
          "text": [
            "[[ 1  2  3]\n",
            " [ 4  5  6]\n",
            " [ 7  8  9]\n",
            " [10 11 12]]\n",
            "_________________\n",
            "[[[ 1  2]\n",
            "  [ 3  4]\n",
            "  [ 5  6]]\n",
            "\n",
            " [[ 7  8]\n",
            "  [ 9 10]\n",
            "  [11 12]]]\n"
          ]
        }
      ]
    },
    {
      "cell_type": "markdown",
      "source": [
        "# Benefits of using Numpy arrays"
      ],
      "metadata": {
        "id": "dyFWDPyzQAAI"
      }
    },
    {
      "cell_type": "code",
      "source": [
        "# Python lists\n",
        "arr1 = list(range(1000000))\n",
        "arr2 = list(range(1000000, 2000000))\n",
        "\n",
        "# Numpy arrays\n",
        "arr1_np = np.array(arr1)\n",
        "arr2_np = np.array(arr2)"
      ],
      "metadata": {
        "id": "3YLXl0ovY7Q-"
      },
      "execution_count": null,
      "outputs": []
    },
    {
      "cell_type": "code",
      "source": [
        "%%time\n",
        "result = 0\n",
        "for x1, x2 in zip(arr1, arr2):\n",
        "    result += x1*x2\n",
        "result"
      ],
      "metadata": {
        "colab": {
          "base_uri": "https://localhost:8080/"
        },
        "id": "PSkdXyR4Y7XP",
        "outputId": "8dd20783-56bf-410d-c8f0-092014206f9b"
      },
      "execution_count": null,
      "outputs": [
        {
          "output_type": "stream",
          "name": "stdout",
          "text": [
            "CPU times: user 399 ms, sys: 0 ns, total: 399 ms\n",
            "Wall time: 417 ms\n"
          ]
        },
        {
          "output_type": "execute_result",
          "data": {
            "text/plain": [
              "833332333333500000"
            ]
          },
          "metadata": {},
          "execution_count": 33
        }
      ]
    },
    {
      "cell_type": "code",
      "source": [
        "%%time\n",
        "np.dot(arr1_np, arr2_np)"
      ],
      "metadata": {
        "colab": {
          "base_uri": "https://localhost:8080/"
        },
        "id": "mpSAq267Y7cu",
        "outputId": "e13e523b-eff4-4a06-bf02-445c6e331d36"
      },
      "execution_count": null,
      "outputs": [
        {
          "output_type": "stream",
          "name": "stdout",
          "text": [
            "CPU times: user 3.12 ms, sys: 18 µs, total: 3.13 ms\n",
            "Wall time: 1.86 ms\n"
          ]
        },
        {
          "output_type": "execute_result",
          "data": {
            "text/plain": [
              "833332333333500000"
            ]
          },
          "metadata": {},
          "execution_count": 34
        }
      ]
    },
    {
      "cell_type": "markdown",
      "source": [
        "# Special arrays\n",
        "- zeros array\n",
        "- once array\n",
        "- identity\n",
        "- full"
      ],
      "metadata": {
        "id": "zdJ2MOSBQAGX"
      }
    },
    {
      "cell_type": "code",
      "source": [
        "#zaros\n",
        "a1 = np.zeros(10)\n",
        "#Once\n",
        "a2 = np.ones(10)\n",
        "#Identity\n",
        "a3 = np.eye(3)\n",
        "#full\n",
        "a4 = np.full((3,5),3.14)\n",
        "print(\"zeros array:\", a1)\n",
        "print(\"ones array:\", a2)\n",
        "print(\"identity array:\", a3)\n",
        "print(\"full array:\", a4)\n",
        "\n"
      ],
      "metadata": {
        "colab": {
          "base_uri": "https://localhost:8080/"
        },
        "id": "6hLo5pgYqIZ0",
        "outputId": "ff34eddb-3b65-4d46-b7d2-8d4a3b70e22c"
      },
      "execution_count": null,
      "outputs": [
        {
          "output_type": "stream",
          "name": "stdout",
          "text": [
            "zeros array: [0. 0. 0. 0. 0. 0. 0. 0. 0. 0.]\n",
            "ones array: [1. 1. 1. 1. 1. 1. 1. 1. 1. 1.]\n",
            "identity array: [[1. 0. 0.]\n",
            " [0. 1. 0.]\n",
            " [0. 0. 1.]]\n",
            "full array: [[3.14 3.14 3.14 3.14 3.14]\n",
            " [3.14 3.14 3.14 3.14 3.14]\n",
            " [3.14 3.14 3.14 3.14 3.14]]\n"
          ]
        }
      ]
    },
    {
      "cell_type": "code",
      "source": [
        "#zaros\n",
        "a1 = np.zeros((3,3))\n",
        "#Once\n",
        "a2 = np.ones((3,3))\n",
        "#Identity\n",
        "a3 = np.eye(3)\n",
        "#full\n",
        "a4 = np.full((4,4),7)\n",
        "print(\"zeros array:\", a1)\n",
        "print(\"ones array:\", a2)\n",
        "print(\"identity array:\", a3)\n",
        "print(\"full array:\", a4)"
      ],
      "metadata": {
        "colab": {
          "base_uri": "https://localhost:8080/"
        },
        "id": "pIIfeXHYqIhg",
        "outputId": "a7e246f4-c777-49d5-bc13-a098f8c67db1"
      },
      "execution_count": null,
      "outputs": [
        {
          "output_type": "stream",
          "name": "stdout",
          "text": [
            "zeros array: [[0. 0. 0.]\n",
            " [0. 0. 0.]\n",
            " [0. 0. 0.]]\n",
            "ones array: [[1. 1. 1.]\n",
            " [1. 1. 1.]\n",
            " [1. 1. 1.]]\n",
            "identity array: [[1. 0. 0.]\n",
            " [0. 1. 0.]\n",
            " [0. 0. 1.]]\n",
            "full array: [[7 7 7 7]\n",
            " [7 7 7 7]\n",
            " [7 7 7 7]\n",
            " [7 7 7 7]]\n"
          ]
        }
      ]
    },
    {
      "cell_type": "code",
      "source": [
        "print(a1.dtype)\n",
        "print(a2.dtype)\n",
        "print(a3.dtype)\n",
        "print(a4.dtype)"
      ],
      "metadata": {
        "colab": {
          "base_uri": "https://localhost:8080/"
        },
        "id": "7L3mwFNnqIoD",
        "outputId": "8d850a05-aa66-48af-b747-ec6769e90e87"
      },
      "execution_count": null,
      "outputs": [
        {
          "output_type": "stream",
          "name": "stdout",
          "text": [
            "float64\n",
            "float64\n",
            "float64\n",
            "int64\n"
          ]
        }
      ]
    },
    {
      "cell_type": "code",
      "source": [
        "print(a1.sum())\n",
        "print(a2.sum())\n",
        "print(a3.sum())\n",
        "print(a4.sum())"
      ],
      "metadata": {
        "colab": {
          "base_uri": "https://localhost:8080/"
        },
        "id": "krAEFZK-qIs_",
        "outputId": "01fed196-68ca-483c-948c-f883dc0c18ba"
      },
      "execution_count": null,
      "outputs": [
        {
          "output_type": "stream",
          "name": "stdout",
          "text": [
            "0.0\n",
            "9.0\n",
            "3.0\n",
            "112\n"
          ]
        }
      ]
    },
    {
      "cell_type": "markdown",
      "source": [
        "## Broadicasting\n",
        "\n",
        "- Scaler\n"
      ],
      "metadata": {
        "id": "Lx3HX_IlqIyP"
      }
    },
    {
      "cell_type": "code",
      "source": [
        "a4 = np.arange(9).reshape(3,3)\n",
        "print(a4)\n",
        "print(a4+3)\n",
        "print(a4*2)\n",
        "a5 = np.arange(3)\n",
        "print(a5)\n",
        "print(a4+a5)"
      ],
      "metadata": {
        "colab": {
          "base_uri": "https://localhost:8080/"
        },
        "id": "GAg2R4nHqI3x",
        "outputId": "d532e808-7e9a-4880-9245-a7096f9c1fce"
      },
      "execution_count": null,
      "outputs": [
        {
          "output_type": "stream",
          "name": "stdout",
          "text": [
            "[[0 1 2]\n",
            " [3 4 5]\n",
            " [6 7 8]]\n",
            "[[ 3  4  5]\n",
            " [ 6  7  8]\n",
            " [ 9 10 11]]\n",
            "[[ 0  2  4]\n",
            " [ 6  8 10]\n",
            " [12 14 16]]\n",
            "[0 1 2]\n",
            "[[ 0  2  4]\n",
            " [ 3  5  7]\n",
            " [ 6  8 10]]\n"
          ]
        }
      ]
    },
    {
      "cell_type": "code",
      "source": [],
      "metadata": {
        "id": "3Ui2AXtVqI8v"
      },
      "execution_count": null,
      "outputs": []
    },
    {
      "cell_type": "code",
      "source": [],
      "metadata": {
        "id": "q0Xf8EJ1QAMH"
      },
      "execution_count": null,
      "outputs": []
    },
    {
      "cell_type": "markdown",
      "source": [
        "# image from web"
      ],
      "metadata": {
        "id": "sdOGBhSuSqfI"
      }
    },
    {
      "cell_type": "code",
      "source": [],
      "metadata": {
        "id": "Htk9AMl_Sqlk"
      },
      "execution_count": null,
      "outputs": []
    },
    {
      "cell_type": "markdown",
      "source": [
        "![](https://i.imgur.com/mg8O3kd.png)"
      ],
      "metadata": {
        "id": "WmJRGDnj8lwd"
      }
    },
    {
      "cell_type": "markdown",
      "source": [
        "<img src=\"https://i.imgur.com/LJ2WKSI.png\" width=\"240\">\n",
        "\n"
      ],
      "metadata": {
        "id": "GFzdr7xqSqq0"
      }
    },
    {
      "cell_type": "code",
      "source": [
        "<img src=\"https://i.imgur.com/LJ2WKSI.png\" width=\"240\">\n",
        "<img src=\"https://i.imgur.com/LJ2WKSI.png\" width=\"380\">"
      ],
      "metadata": {
        "id": "dcmfKWZR9wCq",
        "colab": {
          "base_uri": "https://localhost:8080/",
          "height": 106
        },
        "outputId": "7e67de2b-d51c-41b0-b815-905b9de1fff3"
      },
      "execution_count": null,
      "outputs": [
        {
          "output_type": "error",
          "ename": "SyntaxError",
          "evalue": "invalid syntax (<ipython-input-40-cbcd477a44c6>, line 1)",
          "traceback": [
            "\u001b[0;36m  File \u001b[0;32m\"<ipython-input-40-cbcd477a44c6>\"\u001b[0;36m, line \u001b[0;32m1\u001b[0m\n\u001b[0;31m    <img src=\"https://i.imgur.com/LJ2WKSI.png\" width=\"240\">\u001b[0m\n\u001b[0m    ^\u001b[0m\n\u001b[0;31mSyntaxError\u001b[0m\u001b[0;31m:\u001b[0m invalid syntax\n"
          ]
        }
      ]
    },
    {
      "cell_type": "markdown",
      "source": [
        "<img src=\"https://i.imgur.com/LJ2WKSI.png\" width=\"380\">"
      ],
      "metadata": {
        "id": "VConvxIi-BaO"
      }
    },
    {
      "cell_type": "code",
      "source": [
        "![](https://images.pexels.com/photos/674010/pexels-photo-674010.jpeg?auto=compress&cs=tinysrgb&w=1260&h=750&dpr=1)"
      ],
      "metadata": {
        "id": "kg2d7uKd-Blc",
        "colab": {
          "base_uri": "https://localhost:8080/"
        },
        "outputId": "b03a130b-57f8-4fd4-8244-fe69a5f29c6d"
      },
      "execution_count": null,
      "outputs": [
        {
          "output_type": "stream",
          "name": "stdout",
          "text": [
            "/bin/bash: -c: line 1: syntax error near unexpected token `https://images.pexels.com/photos/674010/pexels-photo-674010.jpeg?auto=compress'\n",
            "/bin/bash: -c: line 1: `[](https://images.pexels.com/photos/674010/pexels-photo-674010.jpeg?auto=compress&cs=tinysrgb&w=1260&h=750&dpr=1)'\n"
          ]
        }
      ]
    },
    {
      "cell_type": "markdown",
      "source": [
        "![](https://images.pexels.com/photos/674010/pexels-photo-674010.jpeg?auto=compress&cs=tinysrgb&w=1260&h=750&dpr=1)"
      ],
      "metadata": {
        "id": "I3JiWWGw-BsB"
      }
    },
    {
      "cell_type": "markdown",
      "source": [
        "<img src=\"https://images.pexels.com/photos/674010/pexels-photo-674010.jpeg?auto=compress&cs=tinysrgb&w=1260&h=750&dpr=1\"width=\"240\">"
      ],
      "metadata": {
        "id": "daYf9s_e-B4N"
      }
    },
    {
      "cell_type": "markdown",
      "source": [
        "![](https://thumbs.dreamstime.com/b/white-flower-beautiful-hd-pic-japantown-215486907.jpg)"
      ],
      "metadata": {
        "id": "_UGY6MwcABP3"
      }
    },
    {
      "cell_type": "markdown",
      "source": [
        "<img src=\"https://thumbs.dreamstime.com/b/white-flower-beautiful-hd-pic-japantown-215486907.jpg\" width=\"240\">"
      ],
      "metadata": {
        "id": "mcLgIMj-ABZr"
      }
    },
    {
      "cell_type": "markdown",
      "source": [
        "<img src=\"https://thumbs.dreamstime.com/b/white-flower-beautiful-hd-pic-japantown-215486907.jpg\">"
      ],
      "metadata": {
        "id": "d_wt-gchABgI"
      }
    },
    {
      "cell_type": "markdown",
      "source": [
        "# Working with CSV data files\n",
        "\n",
        "CSV is comma seprated txt file\n",
        "\n",
        "Numpy also provides helper functions reading from & writing to files. Let's download a file `climate.txt`, which contains 10,000 climate measurements (temperature, rainfall & humidity) in the following format:"
      ],
      "metadata": {
        "id": "Ut3E1X9vABkm"
      }
    },
    {
      "cell_type": "code",
      "source": [
        "# file load from git hub\n",
        "# step 1\n",
        "import urllib.request\n",
        "import urllib.request\n",
        "\n",
        "#step 2\n",
        "# Change the URL to retrieve the raw CSV data instead of the HTML page.\n",
        "\n",
        "urllib.request.urlretrieve('https://raw.githubusercontent.com/aminsadruddin/NumPy-Exercises/main/climate.csv','climate.txt')\n",
        "#urllib.request.urlretrieve('https://github.com/aminsadruddin/NumPy-Exercises/blob/main/climate.csv','climate.txt')"
      ],
      "metadata": {
        "id": "mgJUEA7hABoV",
        "colab": {
          "base_uri": "https://localhost:8080/"
        },
        "outputId": "e6e3af6b-31e2-447c-d0ee-c78d8bc1d6ac"
      },
      "execution_count": null,
      "outputs": [
        {
          "output_type": "execute_result",
          "data": {
            "text/plain": [
              "('climate.txt', <http.client.HTTPMessage at 0x7f3bf69a19f0>)"
            ]
          },
          "metadata": {},
          "execution_count": 42
        }
      ]
    },
    {
      "cell_type": "code",
      "source": [
        "climate_data = np.genfromtxt('climate.txt', delimiter=',', skip_header=1)\n",
        "# Syntex\n",
        "# np.loadtxt(\"filenale.txt\",delimiters=\",\")"
      ],
      "metadata": {
        "id": "JG0d8LK_ABrZ"
      },
      "execution_count": null,
      "outputs": []
    },
    {
      "cell_type": "code",
      "source": [
        "climate_data"
      ],
      "metadata": {
        "colab": {
          "base_uri": "https://localhost:8080/"
        },
        "id": "RqrFuUnj4Z0S",
        "outputId": "e8fdeb8b-0e85-4ba9-fde0-be1282876bbd"
      },
      "execution_count": null,
      "outputs": [
        {
          "output_type": "execute_result",
          "data": {
            "text/plain": [
              "array([[25., 76., 99.],\n",
              "       [39., 65., 70.],\n",
              "       [59., 45., 77.],\n",
              "       ...,\n",
              "       [99., 62., 58.],\n",
              "       [70., 71., 91.],\n",
              "       [92., 39., 76.]])"
            ]
          },
          "metadata": {},
          "execution_count": 44
        }
      ]
    },
    {
      "cell_type": "code",
      "source": [
        "climate_data.shape"
      ],
      "metadata": {
        "colab": {
          "base_uri": "https://localhost:8080/"
        },
        "id": "yVQA2Aei4iBB",
        "outputId": "1a088c64-557e-4b61-ab24-63d3e82d8370"
      },
      "execution_count": null,
      "outputs": [
        {
          "output_type": "execute_result",
          "data": {
            "text/plain": [
              "(10000, 3)"
            ]
          },
          "metadata": {},
          "execution_count": 45
        }
      ]
    },
    {
      "cell_type": "markdown",
      "source": [
        "We can now perform a matrix multiplication using the `@` operator to predict the yield of apples for the entire dataset using a given set of weights."
      ],
      "metadata": {
        "id": "I6i0BYHuAAG9"
      }
    },
    {
      "cell_type": "code",
      "source": [
        "weights = np.array([0.3, 0.2, 0.5])\n"
      ],
      "metadata": {
        "id": "XW4Lj3QDAQ7V"
      },
      "execution_count": null,
      "outputs": []
    },
    {
      "cell_type": "code",
      "source": [
        "yields_data = climate_data @ weights"
      ],
      "metadata": {
        "id": "1faZxDZ8AXAx"
      },
      "execution_count": null,
      "outputs": []
    },
    {
      "cell_type": "code",
      "source": [
        "# yields_data = climate_data * weights"
      ],
      "metadata": {
        "id": "y_YDxkwyAd8i"
      },
      "execution_count": null,
      "outputs": []
    },
    {
      "cell_type": "code",
      "source": [
        "yields_data"
      ],
      "metadata": {
        "colab": {
          "base_uri": "https://localhost:8080/"
        },
        "id": "yu7sN1CdAk7P",
        "outputId": "04caab35-a0ce-49a0-b2cd-de4b1157c297"
      },
      "execution_count": null,
      "outputs": [
        {
          "output_type": "execute_result",
          "data": {
            "text/plain": [
              "array([72.2, 59.7, 65.2, ..., 71.1, 80.7, 73.4])"
            ]
          },
          "metadata": {},
          "execution_count": 49
        }
      ]
    },
    {
      "cell_type": "code",
      "source": [
        "yields_data.shape"
      ],
      "metadata": {
        "colab": {
          "base_uri": "https://localhost:8080/"
        },
        "id": "VyGDQU9OAqf_",
        "outputId": "10e3ecec-8414-4eba-b7e1-36466ad10ef6"
      },
      "execution_count": null,
      "outputs": [
        {
          "output_type": "execute_result",
          "data": {
            "text/plain": [
              "(10000,)"
            ]
          },
          "metadata": {},
          "execution_count": 50
        }
      ]
    },
    {
      "cell_type": "code",
      "source": [
        "ye = yields_data.reshape(10000,1)\n",
        "ye.shape"
      ],
      "metadata": {
        "colab": {
          "base_uri": "https://localhost:8080/"
        },
        "id": "qgqOb6UVBTjH",
        "outputId": "33ede53a-a949-4499-9966-7d5867a17e9d"
      },
      "execution_count": null,
      "outputs": [
        {
          "output_type": "execute_result",
          "data": {
            "text/plain": [
              "(10000, 1)"
            ]
          },
          "metadata": {},
          "execution_count": 51
        }
      ]
    },
    {
      "cell_type": "markdown",
      "source": [
        "Let's add the `yields` to `climate_data` as a fourth column using the [`np.concatenate`](https://numpy.org/doc/stable/reference/generated/numpy.concatenate.html) function."
      ],
      "metadata": {
        "id": "inPx_4oMAwYD"
      }
    },
    {
      "cell_type": "code",
      "source": [
        "climate_results = np.concatenate((climate_data, yields_data.reshape(10000,1)), axis=1)"
      ],
      "metadata": {
        "id": "gyLiBF5qA2um"
      },
      "execution_count": null,
      "outputs": []
    },
    {
      "cell_type": "code",
      "source": [
        "climate_results"
      ],
      "metadata": {
        "colab": {
          "base_uri": "https://localhost:8080/"
        },
        "id": "nYrD16z7aPA5",
        "outputId": "ddae46a1-6e46-4532-8e69-a9ef8d2d60d6"
      },
      "execution_count": null,
      "outputs": [
        {
          "output_type": "execute_result",
          "data": {
            "text/plain": [
              "array([[25. , 76. , 99. , 72.2],\n",
              "       [39. , 65. , 70. , 59.7],\n",
              "       [59. , 45. , 77. , 65.2],\n",
              "       ...,\n",
              "       [99. , 62. , 58. , 71.1],\n",
              "       [70. , 71. , 91. , 80.7],\n",
              "       [92. , 39. , 76. , 73.4]])"
            ]
          },
          "metadata": {},
          "execution_count": 53
        }
      ]
    },
    {
      "cell_type": "code",
      "source": [
        "climate_data"
      ],
      "metadata": {
        "colab": {
          "base_uri": "https://localhost:8080/"
        },
        "id": "Wr1eZRDBdXiw",
        "outputId": "5761ca41-3621-404c-aaa0-899e090cf83b"
      },
      "execution_count": null,
      "outputs": [
        {
          "output_type": "execute_result",
          "data": {
            "text/plain": [
              "array([[25., 76., 99.],\n",
              "       [39., 65., 70.],\n",
              "       [59., 45., 77.],\n",
              "       ...,\n",
              "       [99., 62., 58.],\n",
              "       [70., 71., 91.],\n",
              "       [92., 39., 76.]])"
            ]
          },
          "metadata": {},
          "execution_count": 54
        }
      ]
    },
    {
      "cell_type": "code",
      "source": [
        "yields_data.reshape(10000,1)"
      ],
      "metadata": {
        "colab": {
          "base_uri": "https://localhost:8080/"
        },
        "id": "6IwTdT90dX7Y",
        "outputId": "7d5d54b8-ba2b-4842-f546-58d52a03ea4e"
      },
      "execution_count": null,
      "outputs": [
        {
          "output_type": "execute_result",
          "data": {
            "text/plain": [
              "array([[72.2],\n",
              "       [59.7],\n",
              "       [65.2],\n",
              "       ...,\n",
              "       [71.1],\n",
              "       [80.7],\n",
              "       [73.4]])"
            ]
          },
          "metadata": {},
          "execution_count": 55
        }
      ]
    },
    {
      "cell_type": "markdown",
      "source": [
        "There are a couple of subtleties here:\n",
        "\n",
        "* Since we wish to add new columns, we pass the argument `axis=1` to `np.concatenate`. The `axis` argument specifies the dimension for concatenation.\n",
        "\n",
        "*  The arrays should have the same number of dimensions, and the same length along each except the dimension used for concatenation. We use the [`np.reshape`](https://numpy.org/doc/stable/reference/generated/numpy.reshape.html) function to change the shape of `yields` from `(10000,)` to `(10000,1)`.\n",
        "\n",
        "Here's a visual explanation of `np.concatenate` along `axis=1` (can you guess what `axis=0` results in?):\n",
        "\n",
        "<img src=\"https://www.w3resource.com/w3r_images/python-numpy-image-exercise-58.png\" width=\"300\">\n",
        "\n",
        "The best way to understand what a Numpy function does is to experiment with it and read the documentation to learn about its arguments & return values. Use the cells below to experiment with `np.concatenate` and `np.reshape`."
      ],
      "metadata": {
        "id": "9vrVjB4aao5Z"
      }
    },
    {
      "cell_type": "code",
      "source": [],
      "metadata": {
        "id": "h2K0fNKJa-Yi"
      },
      "execution_count": null,
      "outputs": []
    },
    {
      "cell_type": "code",
      "source": [
        "np.savetxt('climate_results.csv',\n",
        "           climate_results,\n",
        "           fmt='%.2f',\n",
        "           delimiter=',',\n",
        "           header='temperature,rainfall,humidity,yeild_apples',\n",
        "           comments='')"
      ],
      "metadata": {
        "id": "SSicPmyIa-eu"
      },
      "execution_count": null,
      "outputs": []
    },
    {
      "cell_type": "markdown",
      "source": [],
      "metadata": {
        "id": "BPUSohdAa-jf"
      }
    },
    {
      "cell_type": "code",
      "source": [],
      "metadata": {
        "id": "aHlokYI4a-sv"
      },
      "execution_count": null,
      "outputs": []
    },
    {
      "cell_type": "markdown",
      "source": [
        "# NumPy ufunc"
      ],
      "metadata": {
        "id": "Hb_BdHKxa-w_"
      }
    },
    {
      "cell_type": "code",
      "source": [],
      "metadata": {
        "id": "M7-cA3Vba-1u"
      },
      "execution_count": null,
      "outputs": []
    },
    {
      "cell_type": "code",
      "source": [
        "# Create your own ufunc for addition:\n",
        "import numpy as np\n",
        "\n",
        "def myadd(x, y):\n",
        "  return x+y\n",
        "\n",
        "a = myadd(2,1)\n",
        "print(a)\n",
        "myadd = np.frompyfunc(myadd, 2, 1)\n",
        "\n",
        "print(myadd([1, 2, 3, 4], [5, 6, 7, 8]))"
      ],
      "metadata": {
        "id": "hr82PuEza-3_",
        "colab": {
          "base_uri": "https://localhost:8080/"
        },
        "outputId": "acf2311b-0db9-441e-b30b-8d36fe59595d"
      },
      "execution_count": 3,
      "outputs": [
        {
          "output_type": "stream",
          "name": "stdout",
          "text": [
            "3\n",
            "[6 8 10 12]\n"
          ]
        }
      ]
    },
    {
      "cell_type": "code",
      "source": [
        "# Check if a function is a ufunc:\n",
        "import numpy as np\n",
        "\n",
        "print(type(np.add))"
      ],
      "metadata": {
        "id": "WNWNBsIMa-6O",
        "colab": {
          "base_uri": "https://localhost:8080/"
        },
        "outputId": "a24dd6f2-48ef-495a-be36-fe949b7ae669"
      },
      "execution_count": 4,
      "outputs": [
        {
          "output_type": "stream",
          "name": "stdout",
          "text": [
            "<class 'numpy.ufunc'>\n"
          ]
        }
      ]
    },
    {
      "cell_type": "code",
      "source": [
        ""
      ],
      "metadata": {
        "id": "44Z7vJRda-8g"
      },
      "execution_count": null,
      "outputs": []
    },
    {
      "cell_type": "code",
      "source": [],
      "metadata": {
        "id": "sxMu7fdTa--i"
      },
      "execution_count": null,
      "outputs": []
    },
    {
      "cell_type": "code",
      "source": [],
      "metadata": {
        "id": "JggVXyLMa_Au"
      },
      "execution_count": null,
      "outputs": []
    },
    {
      "cell_type": "code",
      "source": [],
      "metadata": {
        "id": "74i42Qs_a_Cx"
      },
      "execution_count": null,
      "outputs": []
    },
    {
      "cell_type": "code",
      "source": [],
      "metadata": {
        "id": "ZUgO4ByVa_FB"
      },
      "execution_count": null,
      "outputs": []
    },
    {
      "cell_type": "code",
      "source": [],
      "metadata": {
        "id": "arer86O9a_Gw"
      },
      "execution_count": null,
      "outputs": []
    },
    {
      "cell_type": "code",
      "source": [],
      "metadata": {
        "id": "wG1uK-aGa_Iy"
      },
      "execution_count": null,
      "outputs": []
    },
    {
      "cell_type": "code",
      "source": [],
      "metadata": {
        "id": "3x4OlCS0a_LP"
      },
      "execution_count": null,
      "outputs": []
    },
    {
      "cell_type": "code",
      "source": [],
      "metadata": {
        "id": "DA60RvFja_M_"
      },
      "execution_count": null,
      "outputs": []
    },
    {
      "cell_type": "code",
      "source": [],
      "metadata": {
        "id": "4iYjBLuka_PO"
      },
      "execution_count": null,
      "outputs": []
    },
    {
      "cell_type": "code",
      "source": [],
      "metadata": {
        "id": "8vVHAc0ra_Q-"
      },
      "execution_count": null,
      "outputs": []
    },
    {
      "cell_type": "code",
      "source": [],
      "metadata": {
        "id": "5-O3pTRla_TP"
      },
      "execution_count": null,
      "outputs": []
    }
  ]
}